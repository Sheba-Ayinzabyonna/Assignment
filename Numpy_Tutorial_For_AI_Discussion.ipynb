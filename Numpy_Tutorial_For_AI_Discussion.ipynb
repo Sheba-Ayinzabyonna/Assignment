{
  "nbformat": 4,
  "nbformat_minor": 0,
  "metadata": {
    "colab": {
      "provenance": [],
      "collapsed_sections": [
        "W8vcVbuAPFW3",
        "G97AO8NmQXyI",
        "XdNvx2wMYUZB",
        "EflTRnrcURgn"
      ],
      "include_colab_link": true
    },
    "kernelspec": {
      "name": "python3",
      "display_name": "Python 3"
    },
    "language_info": {
      "name": "python"
    }
  },
  "cells": [
    {
      "cell_type": "markdown",
      "metadata": {
        "id": "view-in-github",
        "colab_type": "text"
      },
      "source": [
        "<a href=\"https://colab.research.google.com/github/Sheba-Ayinzabyonna/Assignment/blob/master/Numpy_Tutorial_For_AI_Discussion.ipynb\" target=\"_parent\"><img src=\"https://colab.research.google.com/assets/colab-badge.svg\" alt=\"Open In Colab\"/></a>"
      ]
    },
    {
      "cell_type": "markdown",
      "source": [
        "Python libraries play a crucial role in machine learning by providing a wide range of tools and functionalities that simplify the development, implementation, and deployment of machine learning models. \n",
        "The most popular of these libraries are;\n",
        "- Numpy\n",
        "- Pandas\n",
        "- Matplotlib\n",
        "- Sci-kit learn\n",
        "- Seaborn ... to mention but a few\n",
        "\n",
        "Today we'll going through an Numpy.\n",
        "NB: This isn't an exhaustive tutorial on Numpy, just enough get you to know the basics and the most common aplications in Machine Learning.\n",
        "\n",
        "Compiled by KikuleShawnJ"
      ],
      "metadata": {
        "id": "UtHi7TcW4pqG"
      }
    },
    {
      "cell_type": "markdown",
      "source": [
        "##WHAT IS NUMPY\n",
        "\n",
        "Numpy(Numerical Python) is a Python library for creating and manipulating matrices, the main data structure used by Machine Learning algorithms. Matrices are mathematical objects used to store values in rows and columns.\n",
        "\n",
        "Python calls matrices lists, NumPy calls them arrays and TensorFlow calls them tensors. Python represents matrices with the list data type.\n",
        "\n",
        "It provides efficient N-dimensional array objects, mathematical functions, linear algebra operations, and random number generation. NumPy is the backbone of many other libraries in the scientific computing and machine learning ecosystem.\n"
      ],
      "metadata": {
        "id": "rRYNImHcAa1v"
      }
    },
    {
      "cell_type": "markdown",
      "source": [
        "##IMPORT NumPy MODULE\n",
        "\n",
        "Run the code cells below to import NumPy and check the version.\n"
      ],
      "metadata": {
        "id": "bjm1iP9DHKSy"
      }
    },
    {
      "cell_type": "code",
      "source": [
        "#installing numpy\n",
        "!pip install numpy\n",
        "\n"
      ],
      "metadata": {
        "colab": {
          "base_uri": "https://localhost:8080/"
        },
        "id": "eXDUT2HKNjUG",
        "outputId": "50afadff-ee0f-4f71-b933-fdffd76894bb"
      },
      "execution_count": 2,
      "outputs": [
        {
          "output_type": "stream",
          "name": "stdout",
          "text": [
            "Looking in indexes: https://pypi.org/simple, https://us-python.pkg.dev/colab-wheels/public/simple/\n",
            "Requirement already satisfied: numpy in /usr/local/lib/python3.10/dist-packages (1.22.4)\n"
          ]
        }
      ]
    },
    {
      "cell_type": "code",
      "source": [
        "import numpy as np"
      ],
      "metadata": {
        "id": "Ix93PKFuOJmp"
      },
      "execution_count": 3,
      "outputs": []
    },
    {
      "cell_type": "code",
      "source": [
        "np.__version__"
      ],
      "metadata": {
        "colab": {
          "base_uri": "https://localhost:8080/",
          "height": 36
        },
        "id": "KnMtGxbgONvr",
        "outputId": "e6dd35a7-e4ef-491e-e91f-99d705d46e7b"
      },
      "execution_count": 4,
      "outputs": [
        {
          "output_type": "execute_result",
          "data": {
            "text/plain": [
              "'1.22.4'"
            ],
            "application/vnd.google.colaboratory.intrinsic+json": {
              "type": "string"
            }
          },
          "metadata": {},
          "execution_count": 4
        }
      ]
    },
    {
      "cell_type": "markdown",
      "source": [
        "##POPULATING NUMPY ARRAYS SPECIFIC NUMBERS\n",
        "We use `np.array` to create numpy arrays with your own values.\n",
        "You can specify the datatype using `dtype` argument(The default is int64).\n",
        "The code cell below creates a 5 element array, whose elements are of type 'float32':"
      ],
      "metadata": {
        "id": "pm3T3qP9JCpy"
      }
    },
    {
      "cell_type": "code",
      "source": [
        "one_dimensional_array=np.array([1,2,3,4,5])\n",
        "print(one_dimensional_array)"
      ],
      "metadata": {
        "colab": {
          "base_uri": "https://localhost:8080/"
        },
        "id": "4NOT1QIhOjCK",
        "outputId": "726c535a-7290-4c58-e729-b015846343fe"
      },
      "execution_count": 5,
      "outputs": [
        {
          "output_type": "stream",
          "name": "stdout",
          "text": [
            "[1 2 3 4 5]\n"
          ]
        }
      ]
    },
    {
      "cell_type": "code",
      "source": [
        "#can change the data type to floats\n",
        "one_dimensional_array=np.array([1,2,3,4,5], dtype='float32')\n",
        "print(one_dimensional_array)"
      ],
      "metadata": {
        "colab": {
          "base_uri": "https://localhost:8080/"
        },
        "id": "uoBAwJnYPECx",
        "outputId": "fe7da043-02ae-400e-8b60-a983ac5a1b30"
      },
      "execution_count": 7,
      "outputs": [
        {
          "output_type": "stream",
          "name": "stdout",
          "text": [
            "[1. 2. 3. 4. 5.]\n"
          ]
        }
      ]
    },
    {
      "cell_type": "code",
      "source": [
        "two_dimensional_array=np.array([[1,2,3,4,5],[6,7,8,9,10]])\n",
        "print(two_dimensional_array)"
      ],
      "metadata": {
        "colab": {
          "base_uri": "https://localhost:8080/"
        },
        "id": "SMwgLPHkPYEN",
        "outputId": "142f68eb-265c-41ac-b75a-d6d5dfd6c2ee"
      },
      "execution_count": 8,
      "outputs": [
        {
          "output_type": "stream",
          "name": "stdout",
          "text": [
            "[[ 1  2  3  4  5]\n",
            " [ 6  7  8  9 10]]\n"
          ]
        }
      ]
    },
    {
      "cell_type": "code",
      "source": [
        "three_dimensional_array=np.array([[[1,2,3],[4,5,6]],[[7,8,9],[10,11,12]]])\n",
        "print(three_dimensional_array)"
      ],
      "metadata": {
        "colab": {
          "base_uri": "https://localhost:8080/"
        },
        "id": "-k9IldwnPpDy",
        "outputId": "9dd08c99-2b35-4031-a1ee-45aa831c13d9"
      },
      "execution_count": 26,
      "outputs": [
        {
          "output_type": "stream",
          "name": "stdout",
          "text": [
            "[[[ 1  2  3]\n",
            "  [ 4  5  6]]\n",
            "\n",
            " [[ 7  8  9]\n",
            "  [10 11 12]]]\n"
          ]
        }
      ]
    },
    {
      "cell_type": "markdown",
      "source": [
        "You can also create a two dimensional array in the same way, just by adding a layer of square brackets. The code cell below creates a 3x2 numpy array."
      ],
      "metadata": {
        "id": "LaFdZ9PQLQ8a"
      }
    },
    {
      "cell_type": "markdown",
      "source": [
        "You can also populate populate a numpy array specifically with zero's and one's"
      ],
      "metadata": {
        "id": "pIEJBImJWVP1"
      }
    },
    {
      "cell_type": "code",
      "source": [
        "print(np.zeros(5))\n",
        "print(np.ones(5))"
      ],
      "metadata": {
        "colab": {
          "base_uri": "https://localhost:8080/"
        },
        "id": "HL-6u7ymQFjh",
        "outputId": "2c7add9f-63df-49e1-dfd5-66be5ab6eacd"
      },
      "execution_count": 9,
      "outputs": [
        {
          "output_type": "stream",
          "name": "stdout",
          "text": [
            "[0. 0. 0. 0. 0.]\n",
            "[1. 1. 1. 1. 1.]\n"
          ]
        }
      ]
    },
    {
      "cell_type": "markdown",
      "source": [
        "## POPULATING NUMPY ARRAYS WITH A SEQUENCE OF NUMBERS\n",
        "You can populate the arrays with a sequence of numbers from a specific lower bound, to a specific upper bound"
      ],
      "metadata": {
        "id": "W8vcVbuAPFW3"
      }
    },
    {
      "cell_type": "code",
      "source": [
        "#5 lower bound is included\n",
        "#11 upper bound not included\n",
        "sequence_integers=np.arange(5,11)\n",
        "print(sequence_integers)"
      ],
      "metadata": {
        "colab": {
          "base_uri": "https://localhost:8080/"
        },
        "id": "bu-F7mZ-QlW7",
        "outputId": "e2950e77-e6d4-4d3e-f6df-25e414bc61b8"
      },
      "execution_count": 12,
      "outputs": [
        {
          "output_type": "stream",
          "name": "stdout",
          "text": [
            "[ 5  6  7  8  9 10]\n"
          ]
        }
      ]
    },
    {
      "cell_type": "code",
      "source": [
        "#skip 2 = size\n",
        "sequence_two=np.arange(0,11,2)\n",
        "print(sequence_two)"
      ],
      "metadata": {
        "colab": {
          "base_uri": "https://localhost:8080/"
        },
        "id": "aKlCLC0ARCnz",
        "outputId": "e9ef0bb0-3e7e-4b81-adc5-cefee30cbf19"
      },
      "execution_count": 14,
      "outputs": [
        {
          "output_type": "stream",
          "name": "stdout",
          "text": [
            "[ 0  2  4  6  8 10]\n"
          ]
        }
      ]
    },
    {
      "cell_type": "markdown",
      "source": [
        "##POPULATING NUMPY ARRAYS WITH RANDOM NUMBERS\n",
        "NumPy provides many functions to populate arrays with random numbers across certain ranges. For example, `np.random.randint` generates random integers between a low and high value. The following call populates a 5-element array with random integers between 1 and 50. "
      ],
      "metadata": {
        "id": "G97AO8NmQXyI"
      }
    },
    {
      "cell_type": "code",
      "source": [
        "random_array=np.random.randint(low=1, high=51, size=(5))\n",
        "print(random_array)"
      ],
      "metadata": {
        "colab": {
          "base_uri": "https://localhost:8080/"
        },
        "id": "GhWTjf_HRf9D",
        "outputId": "22e19c8b-0573-45fb-bcac-c5d9572fc6eb"
      },
      "execution_count": 16,
      "outputs": [
        {
          "output_type": "stream",
          "name": "stdout",
          "text": [
            "[23 44 40 35 43]\n"
          ]
        }
      ]
    },
    {
      "cell_type": "markdown",
      "source": [
        "You can also create an array of random floating point numbers using `np.random.random` between 0 and 1."
      ],
      "metadata": {
        "id": "UHrJIDMbT-0L"
      }
    },
    {
      "cell_type": "code",
      "source": [
        "random_2=np.random.random(5)\n",
        "print(random_2)"
      ],
      "metadata": {
        "colab": {
          "base_uri": "https://localhost:8080/"
        },
        "id": "dRVI609gRzOr",
        "outputId": "922af793-d597-47ae-c275-ade238dda807"
      },
      "execution_count": 17,
      "outputs": [
        {
          "output_type": "stream",
          "name": "stdout",
          "text": [
            "[0.65497973 0.44929936 0.43987657 0.0840961  0.54042583]\n"
          ]
        }
      ]
    },
    {
      "cell_type": "code",
      "source": [
        "random_3=np.random.uniform(1,51, size=5)\n",
        "print(random_3)"
      ],
      "metadata": {
        "colab": {
          "base_uri": "https://localhost:8080/"
        },
        "id": "y-otPGA7SKIB",
        "outputId": "b6b87502-d8aa-443c-937d-626a056ce995"
      },
      "execution_count": 18,
      "outputs": [
        {
          "output_type": "stream",
          "name": "stdout",
          "text": [
            "[37.75011205 42.93420468 29.36976681 24.6019747  32.00965273]\n"
          ]
        }
      ]
    },
    {
      "cell_type": "markdown",
      "source": [
        "##MATHEMATICAL OPERATIONS ON NUMPY OPERANDS\n",
        "NumPy uses a technique called broadcasting to simplfy addition, subtraction and multiplication of NumPy operands as illustrated in the code cell below."
      ],
      "metadata": {
        "id": "XdNvx2wMYUZB"
      }
    },
    {
      "cell_type": "code",
      "source": [
        "broad=np.random.randint(20,31, 10)\n",
        "print(broad)"
      ],
      "metadata": {
        "id": "YGtv1qVjlD-n",
        "colab": {
          "base_uri": "https://localhost:8080/"
        },
        "outputId": "4268810b-d05b-41ec-d73a-bb6e06ed13b3"
      },
      "execution_count": 19,
      "outputs": [
        {
          "output_type": "stream",
          "name": "stdout",
          "text": [
            "[26 24 21 23 21 20 29 24 21 20]\n"
          ]
        }
      ]
    },
    {
      "cell_type": "code",
      "source": [
        "#addition\n",
        "print(broad+2)"
      ],
      "metadata": {
        "colab": {
          "base_uri": "https://localhost:8080/"
        },
        "id": "NzNk-st0S4hy",
        "outputId": "d77393a4-5ea6-4f7e-8d5a-32a789fe57e0"
      },
      "execution_count": 20,
      "outputs": [
        {
          "output_type": "stream",
          "name": "stdout",
          "text": [
            "[28 26 23 25 23 22 31 26 23 22]\n"
          ]
        }
      ]
    },
    {
      "cell_type": "code",
      "source": [
        "#subtraction\n",
        "print(broad-2)"
      ],
      "metadata": {
        "colab": {
          "base_uri": "https://localhost:8080/"
        },
        "id": "YWepypk-S-JS",
        "outputId": "551414f7-d039-49af-a840-aa22a2340696"
      },
      "execution_count": 21,
      "outputs": [
        {
          "output_type": "stream",
          "name": "stdout",
          "text": [
            "[24 22 19 21 19 18 27 22 19 18]\n"
          ]
        }
      ]
    },
    {
      "cell_type": "code",
      "source": [
        "#multiplication\n",
        "print(broad*2)"
      ],
      "metadata": {
        "colab": {
          "base_uri": "https://localhost:8080/"
        },
        "id": "mJ65b19rTFyB",
        "outputId": "68f9c531-edf0-4609-e814-2be7a13374ee"
      },
      "execution_count": 22,
      "outputs": [
        {
          "output_type": "stream",
          "name": "stdout",
          "text": [
            "[52 48 42 46 42 40 58 48 42 40]\n"
          ]
        }
      ]
    },
    {
      "cell_type": "markdown",
      "source": [
        "##TASK 1\n",
        "Create a simple dataset consisting of a simple feature and label as follows:\n",
        "1. Assign a sequence of integers from 5 to 20(inclusive) to a NumPy array named `feature`.\n",
        "2. Assign 15 values to a NumPy array named `label`, such that:\n",
        "```\n",
        "label = (2)feature + 4\n",
        "```\n",
        "for example, the first value in label should be;\n",
        "```\n",
        "label (2)(5) + 4 = 14\n",
        "```"
      ],
      "metadata": {
        "id": "EflTRnrcURgn"
      }
    },
    {
      "cell_type": "code",
      "source": [
        "#1\n",
        "feature= np.arange(5,21)\n",
        "print(feature)"
      ],
      "metadata": {
        "colab": {
          "base_uri": "https://localhost:8080/"
        },
        "id": "cz2KJyNmT36J",
        "outputId": "c68b17ed-d16a-42bf-f8ab-19f94a984ab5"
      },
      "execution_count": 24,
      "outputs": [
        {
          "output_type": "stream",
          "name": "stdout",
          "text": [
            "[ 5  6  7  8  9 10 11 12 13 14 15 16 17 18 19 20]\n"
          ]
        }
      ]
    },
    {
      "cell_type": "code",
      "source": [
        "#2\n",
        "label=feature*2\n",
        "label=label+4\n",
        "print(label)"
      ],
      "metadata": {
        "colab": {
          "base_uri": "https://localhost:8080/"
        },
        "id": "bmBq-AwqUl4J",
        "outputId": "9e8405ea-32a7-4761-d185-d7dc6b7e0f17"
      },
      "execution_count": 25,
      "outputs": [
        {
          "output_type": "stream",
          "name": "stdout",
          "text": [
            "[14 16 18 20 22 24 26 28 30 32 34 36 38 40 42 44]\n"
          ]
        }
      ]
    },
    {
      "cell_type": "markdown",
      "source": [
        "##TASK 2\n",
        "Randomize your dataset by adding different random floating point numbers between -4 and 4 to the `label` dataset.\n",
        "\n",
        "Hint : Do not rely on broadcasting, create a different array with the same dimensions as the label array then add the two."
      ],
      "metadata": {
        "id": "BS2lzqWfb1qR"
      }
    },
    {
      "cell_type": "code",
      "source": [
        "random =np.random.uniform(-4,4, size=16)\n",
        "print(random.dtype)"
      ],
      "metadata": {
        "colab": {
          "base_uri": "https://localhost:8080/"
        },
        "id": "_csIZVU2U-3A",
        "outputId": "898956e3-0719-4602-e0cf-4867d9ac9455"
      },
      "execution_count": 29,
      "outputs": [
        {
          "output_type": "stream",
          "name": "stdout",
          "text": [
            "float64\n"
          ]
        }
      ]
    },
    {
      "cell_type": "markdown",
      "source": [
        "##ARRAY INDEXING\n",
        "You can access elements of an array using their index numbers. Indices start from 0, and the second index has 1, and so on."
      ],
      "metadata": {
        "id": "qdxrMkDNFLXo"
      }
    },
    {
      "cell_type": "markdown",
      "source": [
        "ACCESSING 2D ARRAYS\n",
        "\n",
        "To access elements from 2-D arrays we can use comma separated integers representing the dimension and the index of the element.\n",
        "\n"
      ],
      "metadata": {
        "id": "vJAd4p0BsO8k"
      }
    },
    {
      "cell_type": "markdown",
      "source": [
        "ACCESSING 3D ARRAYS\n",
        "\n",
        "To access elements from 3D arrays is similar"
      ],
      "metadata": {
        "id": "yAlnhi-XvWgl"
      }
    },
    {
      "cell_type": "markdown",
      "source": [
        "##ARRAY SLICING\n",
        "Slicing in python is simply taking elements from one given index to another given index.\n",
        "`[start:end]`\n",
        "or\n",
        "`[start:end:step]`\n",
        "If we don't specify a start, it is considered zero.\n",
        "If we don't specify an end, its considered the remaining length of the array in that dimension.\n",
        "The default step is 1."
      ],
      "metadata": {
        "id": "S8e19cWpFiAl"
      }
    }
  ]
}